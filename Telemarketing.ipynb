{
 "cells": [
  {
   "cell_type": "markdown",
   "metadata": {},
   "source": [
    "## Case 2: Telemarketing"
   ]
  },
  {
   "cell_type": "markdown",
   "metadata": {},
   "source": [
    "Today, marketing expenditure in the banking industry is massive, which means it is crucial for banks to optimize marketing strategies and enhance effectiveness. Understanding customer needs leads to more effective marketing plans, smarter product designs, and increased customer satisfaction. Our objective is to assess:\n",
    "1 - Who the bank is targeting with its campaigns?\n",
    "2 - Argue if the bank telemarketing strategy is appropriate.\n",
    "3 - Profile the customers with higher likelihood of conversion and compare it with current bank targeting."
   ]
  },
  {
   "cell_type": "markdown",
   "metadata": {},
   "source": [
    "DESCRIPCION COLUMNAS\n",
    "\n",
    "1. age: La edad del individuo (numérico).\n",
    "2. job: La ocupación del individuo (categórico).\n",
    "3. marital: El estado civil del individuo (categórico).\n",
    "4. education: El nivel más alto de educación alcanzado por el individuo (categórico).\n",
    "5. default: Si el individuo tiene una mora crediticia (categórico).\n",
    "6. balance: El saldo de la cuenta bancaria del individuo (numérico).\n",
    "7. housing: Si el individuo tiene un préstamo para vivienda (categórico).\n",
    "8. loan: Si el individuo tiene un préstamo personal (categórico).\n",
    "9. contact: El tipo de comunicación del contacto (categórico).\n",
    "10. day: El día del mes en el que se realizó el contacto (numérico).\n",
    "11. month: El mes en el que se realizó el contacto (categórico).\n",
    "12. duration: La duración del último contacto en segundos (numérico).\n",
    "13. campaign: la cantidad de contactos realizados durante esta campaña para el individuo (numérico).\n",
    "14. pdays: la cantidad de días transcurridos desde que el individuo fue contactado por última vez (numérico).\n",
    "15. previous: la cantidad de contactos realizados antes de esta campaña para el individuo (numérico).\n",
    "16. poutcome: el resultado de la campaña de marketing anterior (categórico).\n",
    "17. response: la respuesta del individuo a la campaña de marketing (categórica).\n",
    "18. response_binary: una representación binaria de la respuesta, donde 1 indica una respuesta positiva y 0 indica una respuesta \n",
    "negativa (numérico).\n",
    " "
   ]
  },
  {
   "cell_type": "code",
   "execution_count": 1,
   "metadata": {},
   "outputs": [],
   "source": [
    "import pandas as pd\n",
    "import numpy as np\n",
    "import seaborn as sns"
   ]
  },
  {
   "cell_type": "code",
   "execution_count": 2,
   "metadata": {},
   "outputs": [
    {
     "data": {
      "text/html": [
       "<div>\n",
       "<style scoped>\n",
       "    .dataframe tbody tr th:only-of-type {\n",
       "        vertical-align: middle;\n",
       "    }\n",
       "\n",
       "    .dataframe tbody tr th {\n",
       "        vertical-align: top;\n",
       "    }\n",
       "\n",
       "    .dataframe thead th {\n",
       "        text-align: right;\n",
       "    }\n",
       "</style>\n",
       "<table border=\"1\" class=\"dataframe\">\n",
       "  <thead>\n",
       "    <tr style=\"text-align: right;\">\n",
       "      <th></th>\n",
       "      <th>age</th>\n",
       "      <th>job</th>\n",
       "      <th>marital</th>\n",
       "      <th>education</th>\n",
       "      <th>default</th>\n",
       "      <th>balance</th>\n",
       "      <th>housing</th>\n",
       "      <th>loan</th>\n",
       "      <th>day</th>\n",
       "      <th>month</th>\n",
       "      <th>duration</th>\n",
       "      <th>campaign</th>\n",
       "      <th>pdays</th>\n",
       "      <th>previous</th>\n",
       "      <th>poutcome</th>\n",
       "      <th>response</th>\n",
       "      <th>response_binary</th>\n",
       "      <th>month_int</th>\n",
       "    </tr>\n",
       "  </thead>\n",
       "  <tbody>\n",
       "    <tr>\n",
       "      <th>0</th>\n",
       "      <td>58</td>\n",
       "      <td>management</td>\n",
       "      <td>married</td>\n",
       "      <td>tertiary</td>\n",
       "      <td>no</td>\n",
       "      <td>2143</td>\n",
       "      <td>yes</td>\n",
       "      <td>no</td>\n",
       "      <td>5</td>\n",
       "      <td>may</td>\n",
       "      <td>4.35</td>\n",
       "      <td>1</td>\n",
       "      <td>-1</td>\n",
       "      <td>0</td>\n",
       "      <td>unknown</td>\n",
       "      <td>no</td>\n",
       "      <td>0</td>\n",
       "      <td>5.0</td>\n",
       "    </tr>\n",
       "    <tr>\n",
       "      <th>1</th>\n",
       "      <td>44</td>\n",
       "      <td>technician</td>\n",
       "      <td>single</td>\n",
       "      <td>secondary</td>\n",
       "      <td>no</td>\n",
       "      <td>29</td>\n",
       "      <td>yes</td>\n",
       "      <td>no</td>\n",
       "      <td>5</td>\n",
       "      <td>may</td>\n",
       "      <td>2.52</td>\n",
       "      <td>1</td>\n",
       "      <td>-1</td>\n",
       "      <td>0</td>\n",
       "      <td>unknown</td>\n",
       "      <td>no</td>\n",
       "      <td>0</td>\n",
       "      <td>5.0</td>\n",
       "    </tr>\n",
       "    <tr>\n",
       "      <th>2</th>\n",
       "      <td>33</td>\n",
       "      <td>entrepreneur</td>\n",
       "      <td>married</td>\n",
       "      <td>secondary</td>\n",
       "      <td>no</td>\n",
       "      <td>2</td>\n",
       "      <td>yes</td>\n",
       "      <td>yes</td>\n",
       "      <td>5</td>\n",
       "      <td>may</td>\n",
       "      <td>1.27</td>\n",
       "      <td>1</td>\n",
       "      <td>-1</td>\n",
       "      <td>0</td>\n",
       "      <td>unknown</td>\n",
       "      <td>no</td>\n",
       "      <td>0</td>\n",
       "      <td>5.0</td>\n",
       "    </tr>\n",
       "    <tr>\n",
       "      <th>3</th>\n",
       "      <td>35</td>\n",
       "      <td>management</td>\n",
       "      <td>married</td>\n",
       "      <td>tertiary</td>\n",
       "      <td>no</td>\n",
       "      <td>231</td>\n",
       "      <td>yes</td>\n",
       "      <td>no</td>\n",
       "      <td>5</td>\n",
       "      <td>may</td>\n",
       "      <td>2.32</td>\n",
       "      <td>1</td>\n",
       "      <td>-1</td>\n",
       "      <td>0</td>\n",
       "      <td>unknown</td>\n",
       "      <td>no</td>\n",
       "      <td>0</td>\n",
       "      <td>5.0</td>\n",
       "    </tr>\n",
       "    <tr>\n",
       "      <th>4</th>\n",
       "      <td>28</td>\n",
       "      <td>management</td>\n",
       "      <td>single</td>\n",
       "      <td>tertiary</td>\n",
       "      <td>no</td>\n",
       "      <td>447</td>\n",
       "      <td>yes</td>\n",
       "      <td>yes</td>\n",
       "      <td>5</td>\n",
       "      <td>may</td>\n",
       "      <td>3.62</td>\n",
       "      <td>1</td>\n",
       "      <td>-1</td>\n",
       "      <td>0</td>\n",
       "      <td>unknown</td>\n",
       "      <td>no</td>\n",
       "      <td>0</td>\n",
       "      <td>5.0</td>\n",
       "    </tr>\n",
       "  </tbody>\n",
       "</table>\n",
       "</div>"
      ],
      "text/plain": [
       "   age           job  marital  education default  balance housing loan  day  \\\n",
       "0   58    management  married   tertiary      no     2143     yes   no    5   \n",
       "1   44    technician   single  secondary      no       29     yes   no    5   \n",
       "2   33  entrepreneur  married  secondary      no        2     yes  yes    5   \n",
       "3   35    management  married   tertiary      no      231     yes   no    5   \n",
       "4   28    management   single   tertiary      no      447     yes  yes    5   \n",
       "\n",
       "  month  duration  campaign  pdays  previous poutcome response  \\\n",
       "0   may      4.35         1     -1         0  unknown       no   \n",
       "1   may      2.52         1     -1         0  unknown       no   \n",
       "2   may      1.27         1     -1         0  unknown       no   \n",
       "3   may      2.32         1     -1         0  unknown       no   \n",
       "4   may      3.62         1     -1         0  unknown       no   \n",
       "\n",
       "   response_binary  month_int  \n",
       "0                0        5.0  \n",
       "1                0        5.0  \n",
       "2                0        5.0  \n",
       "3                0        5.0  \n",
       "4                0        5.0  "
      ]
     },
     "execution_count": 2,
     "metadata": {},
     "output_type": "execute_result"
    }
   ],
   "source": [
    "df = pd.read_csv(r'bank-full_clean.csv')\n",
    "df.head()"
   ]
  },
  {
   "cell_type": "code",
   "execution_count": 3,
   "metadata": {},
   "outputs": [
    {
     "data": {
      "text/html": [
       "<div>\n",
       "<style scoped>\n",
       "    .dataframe tbody tr th:only-of-type {\n",
       "        vertical-align: middle;\n",
       "    }\n",
       "\n",
       "    .dataframe tbody tr th {\n",
       "        vertical-align: top;\n",
       "    }\n",
       "\n",
       "    .dataframe thead th {\n",
       "        text-align: right;\n",
       "    }\n",
       "</style>\n",
       "<table border=\"1\" class=\"dataframe\">\n",
       "  <thead>\n",
       "    <tr style=\"text-align: right;\">\n",
       "      <th></th>\n",
       "      <th>age</th>\n",
       "      <th>balance</th>\n",
       "      <th>day</th>\n",
       "      <th>duration</th>\n",
       "      <th>campaign</th>\n",
       "      <th>pdays</th>\n",
       "      <th>previous</th>\n",
       "      <th>response_binary</th>\n",
       "      <th>month_int</th>\n",
       "    </tr>\n",
       "  </thead>\n",
       "  <tbody>\n",
       "    <tr>\n",
       "      <th>count</th>\n",
       "      <td>40841.000000</td>\n",
       "      <td>40841.000000</td>\n",
       "      <td>40841.000000</td>\n",
       "      <td>40841.000000</td>\n",
       "      <td>40841.000000</td>\n",
       "      <td>40841.000000</td>\n",
       "      <td>40841.000000</td>\n",
       "      <td>40841.000000</td>\n",
       "      <td>40841.000000</td>\n",
       "    </tr>\n",
       "    <tr>\n",
       "      <th>mean</th>\n",
       "      <td>40.790676</td>\n",
       "      <td>1073.981807</td>\n",
       "      <td>15.863666</td>\n",
       "      <td>4.308949</td>\n",
       "      <td>2.774149</td>\n",
       "      <td>32.248304</td>\n",
       "      <td>0.436791</td>\n",
       "      <td>0.113587</td>\n",
       "      <td>6.166401</td>\n",
       "    </tr>\n",
       "    <tr>\n",
       "      <th>std</th>\n",
       "      <td>10.475473</td>\n",
       "      <td>1712.556186</td>\n",
       "      <td>8.313608</td>\n",
       "      <td>4.305823</td>\n",
       "      <td>3.104177</td>\n",
       "      <td>90.738402</td>\n",
       "      <td>1.572342</td>\n",
       "      <td>0.317313</td>\n",
       "      <td>2.362637</td>\n",
       "    </tr>\n",
       "    <tr>\n",
       "      <th>min</th>\n",
       "      <td>18.000000</td>\n",
       "      <td>-6847.000000</td>\n",
       "      <td>1.000000</td>\n",
       "      <td>0.100000</td>\n",
       "      <td>1.000000</td>\n",
       "      <td>-1.000000</td>\n",
       "      <td>0.000000</td>\n",
       "      <td>0.000000</td>\n",
       "      <td>1.000000</td>\n",
       "    </tr>\n",
       "    <tr>\n",
       "      <th>25%</th>\n",
       "      <td>33.000000</td>\n",
       "      <td>64.000000</td>\n",
       "      <td>8.000000</td>\n",
       "      <td>1.730000</td>\n",
       "      <td>1.000000</td>\n",
       "      <td>-1.000000</td>\n",
       "      <td>0.000000</td>\n",
       "      <td>0.000000</td>\n",
       "      <td>5.000000</td>\n",
       "    </tr>\n",
       "    <tr>\n",
       "      <th>50%</th>\n",
       "      <td>39.000000</td>\n",
       "      <td>421.000000</td>\n",
       "      <td>16.000000</td>\n",
       "      <td>3.000000</td>\n",
       "      <td>2.000000</td>\n",
       "      <td>-1.000000</td>\n",
       "      <td>0.000000</td>\n",
       "      <td>0.000000</td>\n",
       "      <td>6.000000</td>\n",
       "    </tr>\n",
       "    <tr>\n",
       "      <th>75%</th>\n",
       "      <td>48.000000</td>\n",
       "      <td>1333.000000</td>\n",
       "      <td>21.000000</td>\n",
       "      <td>5.300000</td>\n",
       "      <td>3.000000</td>\n",
       "      <td>-1.000000</td>\n",
       "      <td>0.000000</td>\n",
       "      <td>0.000000</td>\n",
       "      <td>8.000000</td>\n",
       "    </tr>\n",
       "    <tr>\n",
       "      <th>max</th>\n",
       "      <td>95.000000</td>\n",
       "      <td>10443.000000</td>\n",
       "      <td>31.000000</td>\n",
       "      <td>81.970000</td>\n",
       "      <td>58.000000</td>\n",
       "      <td>871.000000</td>\n",
       "      <td>55.000000</td>\n",
       "      <td>1.000000</td>\n",
       "      <td>12.000000</td>\n",
       "    </tr>\n",
       "  </tbody>\n",
       "</table>\n",
       "</div>"
      ],
      "text/plain": [
       "                age       balance           day      duration      campaign  \\\n",
       "count  40841.000000  40841.000000  40841.000000  40841.000000  40841.000000   \n",
       "mean      40.790676   1073.981807     15.863666      4.308949      2.774149   \n",
       "std       10.475473   1712.556186      8.313608      4.305823      3.104177   \n",
       "min       18.000000  -6847.000000      1.000000      0.100000      1.000000   \n",
       "25%       33.000000     64.000000      8.000000      1.730000      1.000000   \n",
       "50%       39.000000    421.000000     16.000000      3.000000      2.000000   \n",
       "75%       48.000000   1333.000000     21.000000      5.300000      3.000000   \n",
       "max       95.000000  10443.000000     31.000000     81.970000     58.000000   \n",
       "\n",
       "              pdays      previous  response_binary     month_int  \n",
       "count  40841.000000  40841.000000     40841.000000  40841.000000  \n",
       "mean      32.248304      0.436791         0.113587      6.166401  \n",
       "std       90.738402      1.572342         0.317313      2.362637  \n",
       "min       -1.000000      0.000000         0.000000      1.000000  \n",
       "25%       -1.000000      0.000000         0.000000      5.000000  \n",
       "50%       -1.000000      0.000000         0.000000      6.000000  \n",
       "75%       -1.000000      0.000000         0.000000      8.000000  \n",
       "max      871.000000     55.000000         1.000000     12.000000  "
      ]
     },
     "execution_count": 3,
     "metadata": {},
     "output_type": "execute_result"
    }
   ],
   "source": [
    "df.describe()"
   ]
  },
  {
   "cell_type": "code",
   "execution_count": 4,
   "metadata": {},
   "outputs": [
    {
     "name": "stdout",
     "output_type": "stream",
     "text": [
      "<class 'pandas.core.frame.DataFrame'>\n",
      "RangeIndex: 40841 entries, 0 to 40840\n",
      "Data columns (total 18 columns):\n",
      " #   Column           Non-Null Count  Dtype  \n",
      "---  ------           --------------  -----  \n",
      " 0   age              40841 non-null  int64  \n",
      " 1   job              40841 non-null  object \n",
      " 2   marital          40841 non-null  object \n",
      " 3   education        40841 non-null  object \n",
      " 4   default          40841 non-null  object \n",
      " 5   balance          40841 non-null  int64  \n",
      " 6   housing          40841 non-null  object \n",
      " 7   loan             40841 non-null  object \n",
      " 8   day              40841 non-null  int64  \n",
      " 9   month            40841 non-null  object \n",
      " 10  duration         40841 non-null  float64\n",
      " 11  campaign         40841 non-null  int64  \n",
      " 12  pdays            40841 non-null  int64  \n",
      " 13  previous         40841 non-null  int64  \n",
      " 14  poutcome         40841 non-null  object \n",
      " 15  response         40841 non-null  object \n",
      " 16  response_binary  40841 non-null  int64  \n",
      " 17  month_int        40841 non-null  float64\n",
      "dtypes: float64(2), int64(7), object(9)\n",
      "memory usage: 5.6+ MB\n"
     ]
    }
   ],
   "source": [
    "#pdays tiene negativos, para ver si hay nulos (en este caso no tiene) y el tipo de dato\n",
    "df.info()"
   ]
  },
  {
   "cell_type": "code",
   "execution_count": 21,
   "metadata": {},
   "outputs": [
    {
     "data": {
      "text/plain": [
       "(40841, 18)"
      ]
     },
     "execution_count": 21,
     "metadata": {},
     "output_type": "execute_result"
    }
   ],
   "source": [
    "df.shape\n"
   ]
  },
  {
   "cell_type": "code",
   "execution_count": 22,
   "metadata": {},
   "outputs": [
    {
     "data": {
      "text/plain": [
       "Index(['age', 'job', 'marital', 'education', 'default', 'balance', 'housing',\n",
       "       'loan', 'day', 'month', 'duration', 'campaign', 'pdays', 'previous',\n",
       "       'poutcome', 'response', 'response_binary', 'month_int'],\n",
       "      dtype='object')"
      ]
     },
     "execution_count": 22,
     "metadata": {},
     "output_type": "execute_result"
    }
   ],
   "source": [
    "df.columns\n"
   ]
  },
  {
   "cell_type": "code",
   "execution_count": 6,
   "metadata": {},
   "outputs": [
    {
     "data": {
      "text/plain": [
       "age                0\n",
       "job                0\n",
       "marital            0\n",
       "education          0\n",
       "default            0\n",
       "balance            0\n",
       "housing            0\n",
       "loan               0\n",
       "day                0\n",
       "month              0\n",
       "duration           0\n",
       "campaign           0\n",
       "pdays              0\n",
       "previous           0\n",
       "poutcome           0\n",
       "response           0\n",
       "response_binary    0\n",
       "month_int          0\n",
       "dtype: int64"
      ]
     },
     "execution_count": 6,
     "metadata": {},
     "output_type": "execute_result"
    }
   ],
   "source": [
    "#vamos a ver si existen valores nulos. No tneemos nulos... Vamos bien\n",
    "df.isna().sum()"
   ]
  },
  {
   "cell_type": "code",
   "execution_count": 7,
   "metadata": {},
   "outputs": [
    {
     "data": {
      "text/plain": [
       "pdays\n",
       "-1      34797\n",
       " 182      132\n",
       " 92       123\n",
       " 183      107\n",
       " 181      106\n",
       "        ...  \n",
       " 626        1\n",
       " 667        1\n",
       " 421        1\n",
       " 592        1\n",
       " 33         1\n",
       "Name: count, Length: 510, dtype: int64"
      ]
     },
     "execution_count": 7,
     "metadata": {},
     "output_type": "execute_result"
    }
   ],
   "source": [
    "#Analizamos columna pdays, y encontramos valores negativos\n",
    "df['pdays'].value_counts()\n",
    "\n"
   ]
  },
  {
   "cell_type": "code",
   "execution_count": 9,
   "metadata": {},
   "outputs": [
    {
     "name": "stdout",
     "output_type": "stream",
     "text": [
      "            count  mean  std  min  25%  50%  75%  max\n",
      "poutcome                                             \n",
      "unknown   34797.0  -1.0  0.0 -1.0 -1.0 -1.0 -1.0 -1.0\n"
     ]
    }
   ],
   "source": [
    "#Nos quedamos con todos las filas que tienen una aceptacion de campaña (poutcome)\n",
    "filtered_df = df[df['pdays'] < 1]  \n",
    "summary = filtered_df.groupby('poutcome')['pdays'].describe()  \n",
    "print(summary)  \n"
   ]
  },
  {
   "cell_type": "code",
   "execution_count": 10,
   "metadata": {},
   "outputs": [
    {
     "data": {
      "text/plain": [
       "pdays\n",
       "0      34797\n",
       "182      132\n",
       "92       123\n",
       "183      107\n",
       "181      106\n",
       "       ...  \n",
       "626        1\n",
       "667        1\n",
       "421        1\n",
       "592        1\n",
       "33         1\n",
       "Name: count, Length: 510, dtype: int64"
      ]
     },
     "execution_count": 10,
     "metadata": {},
     "output_type": "execute_result"
    }
   ],
   "source": [
    "# Corregimos los valores '-1' por '0'\n",
    "df['pdays'] = df['pdays'].replace(-1, 0) \n",
    "df['pdays'].value_counts()         "
   ]
  },
  {
   "cell_type": "code",
   "execution_count": 13,
   "metadata": {},
   "outputs": [],
   "source": [
    "# Comprobamos si tras el cambio de -1 a 0, genera duplicados\n",
    "df = df.drop_duplicates()"
   ]
  },
  {
   "cell_type": "code",
   "execution_count": 14,
   "metadata": {},
   "outputs": [
    {
     "data": {
      "text/plain": [
       "(40841, 18)"
      ]
     },
     "execution_count": 14,
     "metadata": {},
     "output_type": "execute_result"
    }
   ],
   "source": [
    "# Visualizamos si el numero de filas ha cambiado. Vemos que las filas son las mismas, por lo que no se ha eliminado ningun duplicado.\n",
    "df.shape"
   ]
  },
  {
   "cell_type": "code",
   "execution_count": 16,
   "metadata": {},
   "outputs": [
    {
     "data": {
      "text/plain": [
       "<Axes: xlabel='pdays', ylabel='Count'>"
      ]
     },
     "execution_count": 16,
     "metadata": {},
     "output_type": "execute_result"
    },
    {
     "data": {
      "image/png": "[encoded data removed]",
      "text/plain": [
       "<Figure size 640x480 with 1 Axes>"
      ]
     },
     "metadata": {},
     "output_type": "display_data"
    }
   ],
   "source": [
    "# Visualizamos el cambio y la distribucion de los pdays (con el valor ya cambiado)\n",
    "sns.histplot(df['pdays'], bins = 50)"
   ]
  },
  {
   "cell_type": "code",
   "execution_count": 17,
   "metadata": {},
   "outputs": [
    {
     "name": "stdout",
     "output_type": "stream",
     "text": [
      "campaign\n",
      "1     15788\n",
      "2     11306\n",
      "3      4954\n",
      "4      3241\n",
      "5      1606\n",
      "6      1169\n",
      "7       649\n",
      "8       489\n",
      "9       288\n",
      "10      248\n",
      "11      180\n",
      "12      145\n",
      "13      123\n",
      "14       84\n",
      "15       82\n",
      "16       75\n",
      "17       64\n",
      "18       45\n",
      "19       43\n",
      "20       39\n",
      "21       34\n",
      "23       20\n",
      "24       20\n",
      "22       20\n",
      "25       19\n",
      "28       16\n",
      "29       13\n",
      "26       12\n",
      "31       10\n",
      "27        9\n",
      "32        9\n",
      "30        8\n",
      "33        6\n",
      "36        4\n",
      "34        4\n",
      "35        3\n",
      "38        3\n",
      "41        2\n",
      "43        2\n",
      "50        2\n",
      "37        1\n",
      "39        1\n",
      "44        1\n",
      "46        1\n",
      "51        1\n",
      "55        1\n",
      "58        1\n",
      "Name: count, dtype: int64\n"
     ]
    }
   ],
   "source": [
    "#Numero de intentos para el contacto de clientes/ dentro de los primeros 6 intentos se concentran el 90%\n",
    "print(df['campaign'].sort_values().value_counts())\n"
   ]
  },
  {
   "cell_type": "code",
   "execution_count": null,
   "metadata": {},
   "outputs": [
    {
     "data": {
      "text/plain": [
       "<Axes: xlabel='duration', ylabel='Count'>"
      ]
     },
     "execution_count": 42,
     "metadata": {},
     "output_type": "execute_result"
    },
    {
     "data": {
      "image/png": "[encoded data removed]",
      "text/plain": [
       "<Figure size 640x480 with 1 Axes>"
      ]
     },
     "metadata": {},
     "output_type": "display_data"
    }
   ],
   "source": [
    "#duracion aprox 28.33 min\n",
    "sns.histplot(df['duration'])"
   ]
  },
  {
   "cell_type": "code",
   "execution_count": 43,
   "metadata": {},
   "outputs": [
    {
     "name": "stdout",
     "output_type": "stream",
     "text": [
      "duration\n",
      "1.50     168\n",
      "2.07     167\n",
      "1.48     166\n",
      "1.73     166\n",
      "2.03     163\n",
      "        ... \n",
      "18.55      1\n",
      "28.02      1\n",
      "23.48      1\n",
      "25.60      1\n",
      "25.93      1\n",
      "Name: count, Length: 1539, dtype: int64\n"
     ]
    }
   ],
   "source": [
    "print(df['duration'].value_counts())"
   ]
  },
  {
   "cell_type": "code",
   "execution_count": 44,
   "metadata": {},
   "outputs": [
    {
     "name": "stdout",
     "output_type": "stream",
     "text": [
      "month\n",
      "may    12496\n",
      "jul     6520\n",
      "aug     5877\n",
      "jun     4853\n",
      "nov     3483\n",
      "apr     2529\n",
      "feb     2258\n",
      "jan     1183\n",
      "oct      605\n",
      "sep      457\n",
      "mar      407\n",
      "dec      173\n",
      "Name: count, dtype: int64\n"
     ]
    }
   ],
   "source": [
    "print(df['month'].value_counts()) "
   ]
  },
  {
   "cell_type": "code",
   "execution_count": null,
   "metadata": {},
   "outputs": [
    {
     "name": "stdout",
     "output_type": "stream",
     "text": [
      "loan\n",
      "no     34042\n",
      "yes     6799\n",
      "Name: count, dtype: int64\n"
     ]
    }
   ],
   "source": [
    "#prestamo personal si / no\n",
    "print(df['loan'].value_counts()) "
   ]
  },
  {
   "cell_type": "code",
   "execution_count": null,
   "metadata": {},
   "outputs": [
    {
     "name": "stdout",
     "output_type": "stream",
     "text": [
      "housing\n",
      "yes    22820\n",
      "no     18021\n",
      "Name: count, dtype: int64\n"
     ]
    }
   ],
   "source": [
    "# si tienen credito hipotecario\n",
    "print(df['housing'].value_counts()) #Crédito hipotecario"
   ]
  },
  {
   "cell_type": "code",
   "execution_count": 47,
   "metadata": {},
   "outputs": [
    {
     "name": "stdout",
     "output_type": "stream",
     "text": [
      "balance\n",
      "0       3272\n",
      "1        183\n",
      "2        149\n",
      "4        131\n",
      "3        125\n",
      "        ... \n",
      "3390       1\n",
      "9881       1\n",
      "2534       1\n",
      "2113       1\n",
      "9299       1\n",
      "Name: count, Length: 6350, dtype: int64\n"
     ]
    }
   ],
   "source": [
    "print(df['balance'].value_counts()) #cantidad de dinero del cliente en el banco"
   ]
  },
  {
   "cell_type": "code",
   "execution_count": 48,
   "metadata": {},
   "outputs": [
    {
     "name": "stdout",
     "output_type": "stream",
     "text": [
      "default\n",
      "no     40078\n",
      "yes      763\n",
      "Name: count, dtype: int64\n"
     ]
    }
   ],
   "source": [
    "print(df['default'].value_counts()) #Deudor de pagos de tarjeta de crédito"
   ]
  },
  {
   "cell_type": "code",
   "execution_count": 49,
   "metadata": {},
   "outputs": [
    {
     "name": "stdout",
     "output_type": "stream",
     "text": [
      "education\n",
      "secondary    21933\n",
      "tertiary     12380\n",
      "primary       6528\n",
      "Name: count, dtype: int64\n"
     ]
    }
   ],
   "source": [
    "print(df['education'].value_counts())"
   ]
  },
  {
   "cell_type": "code",
   "execution_count": 50,
   "metadata": {},
   "outputs": [
    {
     "name": "stdout",
     "output_type": "stream",
     "text": [
      "marital\n",
      "married     24641\n",
      "single      11443\n",
      "divorced     4757\n",
      "Name: count, dtype: int64\n"
     ]
    }
   ],
   "source": [
    "print(df['marital'].value_counts())"
   ]
  },
  {
   "cell_type": "code",
   "execution_count": 51,
   "metadata": {},
   "outputs": [
    {
     "name": "stdout",
     "output_type": "stream",
     "text": [
      "job\n",
      "blue-collar      8805\n",
      "management       8565\n",
      "technician       6954\n",
      "admin.           4705\n",
      "services         3801\n",
      "retired          2020\n",
      "self-employed    1443\n",
      "entrepreneur     1340\n",
      "unemployed       1212\n",
      "housemaid        1149\n",
      "student           689\n",
      "other             158\n",
      "Name: count, dtype: int64\n"
     ]
    }
   ],
   "source": [
    "print(df['job'].value_counts())\n",
    "df['job'] = [x.replace('.','') for x in df['job']]"
   ]
  },
  {
   "cell_type": "code",
   "execution_count": 52,
   "metadata": {},
   "outputs": [
    {
     "data": {
      "text/plain": [
       "40841"
      ]
     },
     "execution_count": 52,
     "metadata": {},
     "output_type": "execute_result"
    }
   ],
   "source": [
    "len(df)"
   ]
  },
  {
   "cell_type": "code",
   "execution_count": 53,
   "metadata": {},
   "outputs": [
    {
     "name": "stdout",
     "output_type": "stream",
     "text": [
      "response  poutcome\n",
      "no        unknown     0.873930\n",
      "          failure     0.112397\n",
      "          success     0.013673\n",
      "yes       unknown     0.682044\n",
      "          success     0.193145\n",
      "          failure     0.124811\n",
      "Name: proportion, dtype: float64\n",
      "response  poutcome\n",
      "no        unknown     31638\n",
      "          failure      4069\n",
      "          success       495\n",
      "yes       unknown      3164\n",
      "          success       896\n",
      "          failure       579\n",
      "Name: count, dtype: int64\n"
     ]
    }
   ],
   "source": [
    "print(df.groupby('response')['poutcome'].value_counts(normalize=True))\n",
    "print(df.groupby('response')['poutcome'].value_counts(normalize=False))"
   ]
  },
  {
   "cell_type": "code",
   "execution_count": 54,
   "metadata": {},
   "outputs": [
    {
     "name": "stdout",
     "output_type": "stream",
     "text": [
      "response\n",
      "no     0.886413\n",
      "yes    0.113587\n",
      "Name: proportion, dtype: float64\n"
     ]
    }
   ],
   "source": [
    "print(df['response'].value_counts(normalize=True))"
   ]
  },
  {
   "cell_type": "code",
   "execution_count": 55,
   "metadata": {},
   "outputs": [
    {
     "name": "stdout",
     "output_type": "stream",
     "text": [
      "age  marital \n",
      "18   single      1.000000\n",
      "19   single      1.000000\n",
      "20   single      0.968750\n",
      "     married     0.031250\n",
      "21   single      0.923077\n",
      "                   ...   \n",
      "89   married     1.000000\n",
      "90   divorced    1.000000\n",
      "94   divorced    1.000000\n",
      "95   divorced    0.500000\n",
      "     married     0.500000\n",
      "Name: proportion, Length: 194, dtype: float64\n"
     ]
    }
   ],
   "source": [
    "print(df.groupby('age')['marital'].value_counts(normalize=True))"
   ]
  },
  {
   "cell_type": "code",
   "execution_count": null,
   "metadata": {},
   "outputs": [],
   "source": [
    "#buen pagador 98%\n",
    "#18 a 95 años| 84% de educacion => secundaria | situacion sentimental estable\n",
    "\n"
   ]
  },
  {
   "cell_type": "code",
   "execution_count": 56,
   "metadata": {},
   "outputs": [
    {
     "name": "stdout",
     "output_type": "stream",
     "text": [
      "<class 'pandas.core.frame.DataFrame'>\n",
      "RangeIndex: 40841 entries, 0 to 40840\n",
      "Data columns (total 18 columns):\n",
      " #   Column           Non-Null Count  Dtype  \n",
      "---  ------           --------------  -----  \n",
      " 0   age              40841 non-null  int64  \n",
      " 1   job              40841 non-null  object \n",
      " 2   marital          40841 non-null  object \n",
      " 3   education        40841 non-null  object \n",
      " 4   default          40841 non-null  object \n",
      " 5   balance          40841 non-null  int64  \n",
      " 6   housing          40841 non-null  object \n",
      " 7   loan             40841 non-null  object \n",
      " 8   day              40841 non-null  int64  \n",
      " 9   month            40841 non-null  object \n",
      " 10  duration         40841 non-null  float64\n",
      " 11  campaign         40841 non-null  int64  \n",
      " 12  pdays            40841 non-null  int64  \n",
      " 13  previous         40841 non-null  int64  \n",
      " 14  poutcome         40841 non-null  object \n",
      " 15  response         40841 non-null  object \n",
      " 16  response_binary  40841 non-null  int64  \n",
      " 17  month_int        40841 non-null  float64\n",
      "dtypes: float64(2), int64(7), object(9)\n",
      "memory usage: 5.6+ MB\n"
     ]
    }
   ],
   "source": [
    "df.info()"
   ]
  },
  {
   "cell_type": "code",
   "execution_count": 59,
   "metadata": {},
   "outputs": [
    {
     "name": "stdout",
     "output_type": "stream",
     "text": [
      "education\n",
      "secondary    0.537034\n",
      "tertiary     0.303127\n",
      "primary      0.159839\n",
      "Name: proportion, dtype: float64\n"
     ]
    }
   ],
   "source": [
    "print(df['education'].value_counts(normalize=True))"
   ]
  },
  {
   "cell_type": "code",
   "execution_count": 80,
   "metadata": {},
   "outputs": [
    {
     "name": "stdout",
     "output_type": "stream",
     "text": [
      "response_binary\n",
      "0    0.886413\n",
      "1    0.113587\n",
      "Name: proportion, dtype: float64\n"
     ]
    }
   ],
   "source": [
    "print(df['response_binary'].value_counts(normalize=True))"
   ]
  },
  {
   "cell_type": "code",
   "execution_count": 68,
   "metadata": {},
   "outputs": [
    {
     "name": "stdout",
     "output_type": "stream",
     "text": [
      "           count        mean         std  min    25%    50%    75%    max\n",
      "poutcome                                                                 \n",
      "failure    579.0  233.625216  149.241483  4.0  110.0  184.0  338.0  854.0\n",
      "success    896.0  161.667411   92.737998  1.0   92.0  174.0  185.0  561.0\n",
      "unknown   3164.0    0.090392    3.768605  0.0    0.0    0.0    0.0  188.0\n"
     ]
    }
   ],
   "source": [
    "filtered_df = df[df['response_binary'] > 0]  \n",
    "summary = filtered_df.groupby('poutcome')['pdays'].describe()  \n",
    "print(summary)  \n",
    "\n"
   ]
  },
  {
   "cell_type": "code",
   "execution_count": 103,
   "metadata": {},
   "outputs": [
    {
     "name": "stdout",
     "output_type": "stream",
     "text": [
      "job         balance\n",
      "admin       0          0.060391\n",
      "            169        0.008881\n",
      "            602        0.008881\n",
      "            3735       0.008881\n",
      "            19         0.007105\n",
      "                         ...   \n",
      "unemployed  6748       0.005263\n",
      "            7105       0.005263\n",
      "            7459       0.005263\n",
      "            7620       0.005263\n",
      "            7724       0.005263\n",
      "Name: proportion, Length: 3202, dtype: float64\n"
     ]
    }
   ],
   "source": [
    "print(filtered_df.groupby('job')['balance'].value_counts(normalize=True))"
   ]
  },
  {
   "cell_type": "code",
   "execution_count": 109,
   "metadata": {},
   "outputs": [
    {
     "data": {
      "text/plain": [
       "(4639, 19)"
      ]
     },
     "execution_count": 109,
     "metadata": {},
     "output_type": "execute_result"
    }
   ],
   "source": [
    "filtered_df.shape"
   ]
  },
  {
   "cell_type": "code",
   "execution_count": 105,
   "metadata": {},
   "outputs": [],
   "source": [
    " bins = range(0, filtered_df['age'].max() + 10, 10) "
   ]
  },
  {
   "cell_type": "code",
   "execution_count": 113,
   "metadata": {},
   "outputs": [
    {
     "name": "stdout",
     "output_type": "stream",
     "text": [
      "     age age_range\n",
      "72    59     50-59\n",
      "75    56     50-59\n",
      "76    41     40-49\n",
      "115   55     50-59\n",
      "149   54     50-59\n"
     ]
    },
    {
     "name": "stderr",
     "output_type": "stream",
     "text": [
      "C:\\Users\\alfredo.sanchez.PKDGALATEAPROJE\\AppData\\Local\\Temp\\ipykernel_9120\\1267945498.py:5: SettingWithCopyWarning: \n",
      "A value is trying to be set on a copy of a slice from a DataFrame.\n",
      "Try using .loc[row_indexer,col_indexer] = value instead\n",
      "\n",
      "See the caveats in the documentation: https://pandas.pydata.org/pandas-docs/stable/user_guide/indexing.html#returning-a-view-versus-a-copy\n",
      "  filtered_df['age_range'] = pd.cut(filtered_df['age'], bins=bins, labels=labels, right=False)\n"
     ]
    }
   ],
   "source": [
    " bins = range(0, filtered_df['age'].max() + 10, 10)  # Create bins from 0 to the max age, in steps of 10  \n",
    " labels = [f\"{i}-{i+9}\" for i in bins[:-1]]  # Create labels for each bin (e.g., \"0-9\", \"10-19\")  \n",
    "   \n",
    " # Create a new column 'age_range' in filtered_df  \n",
    " filtered_df['age_range'] = pd.cut(filtered_df['age'], bins=bins, labels=labels, right=False)  \n",
    "   \n",
    " # Display the first few rows to confirm  \n",
    " print(filtered_df[['age', 'age_range']].head())  "
   ]
  },
  {
   "cell_type": "code",
   "execution_count": null,
   "metadata": {},
   "outputs": [
    {
     "name": "stdout",
     "output_type": "stream",
     "text": [
      "   age age_range\n",
      "0   58     50-59\n",
      "1   44     40-49\n",
      "2   33     30-39\n",
      "3   35     30-39\n",
      "4   28     20-29\n"
     ]
    }
   ],
   "source": [
    " bins = range(0, df['age'].max() + 10, 10)  # Create bins from 0 to the max age, in steps of 10  \n",
    " labels = [f\"{i}-{i+9}\" for i in bins[:-1]]  # Create labels for each bin (e.g., \"0-9\", \"10-19\")  \n",
    "   \n",
    " # Create a new column 'age_range' in filtered_df  \n",
    " df['age_range'] = pd.cut(df['age'], bins=bins, labels=labels, right=False)  \n",
    "   \n",
    " # Display the first few rows to confirm  \n",
    " print(df[['age', 'age_range']].head())  "
   ]
  },
  {
   "cell_type": "code",
   "execution_count": 118,
   "metadata": {},
   "outputs": [
    {
     "name": "stderr",
     "output_type": "stream",
     "text": [
      "C:\\Users\\alfredo.sanchez.PKDGALATEAPROJE\\AppData\\Local\\Temp\\ipykernel_9120\\4003428940.py:1: FutureWarning: The default of observed=False is deprecated and will be changed to True in a future version of pandas. Pass observed=False to retain current behavior or observed=True to adopt the future default and silence this warning.\n",
      "  df.groupby('age_range')['age'].describe()\n"
     ]
    },
    {
     "data": {
      "text/html": [
       "<div>\n",
       "<style scoped>\n",
       "    .dataframe tbody tr th:only-of-type {\n",
       "        vertical-align: middle;\n",
       "    }\n",
       "\n",
       "    .dataframe tbody tr th {\n",
       "        vertical-align: top;\n",
       "    }\n",
       "\n",
       "    .dataframe thead th {\n",
       "        text-align: right;\n",
       "    }\n",
       "</style>\n",
       "<table border=\"1\" class=\"dataframe\">\n",
       "  <thead>\n",
       "    <tr style=\"text-align: right;\">\n",
       "      <th></th>\n",
       "      <th>count</th>\n",
       "      <th>mean</th>\n",
       "      <th>std</th>\n",
       "      <th>min</th>\n",
       "      <th>25%</th>\n",
       "      <th>50%</th>\n",
       "      <th>75%</th>\n",
       "      <th>max</th>\n",
       "    </tr>\n",
       "    <tr>\n",
       "      <th>age_range</th>\n",
       "      <th></th>\n",
       "      <th></th>\n",
       "      <th></th>\n",
       "      <th></th>\n",
       "      <th></th>\n",
       "      <th></th>\n",
       "      <th></th>\n",
       "      <th></th>\n",
       "    </tr>\n",
       "  </thead>\n",
       "  <tbody>\n",
       "    <tr>\n",
       "      <th>0-9</th>\n",
       "      <td>0.0</td>\n",
       "      <td>NaN</td>\n",
       "      <td>NaN</td>\n",
       "      <td>NaN</td>\n",
       "      <td>NaN</td>\n",
       "      <td>NaN</td>\n",
       "      <td>NaN</td>\n",
       "      <td>NaN</td>\n",
       "    </tr>\n",
       "    <tr>\n",
       "      <th>10-19</th>\n",
       "      <td>27.0</td>\n",
       "      <td>18.851852</td>\n",
       "      <td>0.362014</td>\n",
       "      <td>18.0</td>\n",
       "      <td>19.0</td>\n",
       "      <td>19.0</td>\n",
       "      <td>19.0</td>\n",
       "      <td>19.0</td>\n",
       "    </tr>\n",
       "    <tr>\n",
       "      <th>20-29</th>\n",
       "      <td>4718.0</td>\n",
       "      <td>26.733362</td>\n",
       "      <td>2.033667</td>\n",
       "      <td>20.0</td>\n",
       "      <td>26.0</td>\n",
       "      <td>27.0</td>\n",
       "      <td>28.0</td>\n",
       "      <td>29.0</td>\n",
       "    </tr>\n",
       "    <tr>\n",
       "      <th>30-39</th>\n",
       "      <td>16566.0</td>\n",
       "      <td>34.245986</td>\n",
       "      <td>2.781125</td>\n",
       "      <td>30.0</td>\n",
       "      <td>32.0</td>\n",
       "      <td>34.0</td>\n",
       "      <td>37.0</td>\n",
       "      <td>39.0</td>\n",
       "    </tr>\n",
       "    <tr>\n",
       "      <th>40-49</th>\n",
       "      <td>10528.0</td>\n",
       "      <td>44.230243</td>\n",
       "      <td>2.871424</td>\n",
       "      <td>40.0</td>\n",
       "      <td>42.0</td>\n",
       "      <td>44.0</td>\n",
       "      <td>47.0</td>\n",
       "      <td>49.0</td>\n",
       "    </tr>\n",
       "    <tr>\n",
       "      <th>50-59</th>\n",
       "      <td>7514.0</td>\n",
       "      <td>54.272691</td>\n",
       "      <td>2.889238</td>\n",
       "      <td>50.0</td>\n",
       "      <td>52.0</td>\n",
       "      <td>54.0</td>\n",
       "      <td>57.0</td>\n",
       "      <td>59.0</td>\n",
       "    </tr>\n",
       "    <tr>\n",
       "      <th>60-69</th>\n",
       "      <td>1037.0</td>\n",
       "      <td>62.029894</td>\n",
       "      <td>2.704578</td>\n",
       "      <td>60.0</td>\n",
       "      <td>60.0</td>\n",
       "      <td>61.0</td>\n",
       "      <td>64.0</td>\n",
       "      <td>69.0</td>\n",
       "    </tr>\n",
       "    <tr>\n",
       "      <th>70-79</th>\n",
       "      <td>346.0</td>\n",
       "      <td>73.641618</td>\n",
       "      <td>2.809694</td>\n",
       "      <td>70.0</td>\n",
       "      <td>71.0</td>\n",
       "      <td>73.0</td>\n",
       "      <td>76.0</td>\n",
       "      <td>79.0</td>\n",
       "    </tr>\n",
       "    <tr>\n",
       "      <th>80-89</th>\n",
       "      <td>100.0</td>\n",
       "      <td>82.460000</td>\n",
       "      <td>2.371634</td>\n",
       "      <td>80.0</td>\n",
       "      <td>80.0</td>\n",
       "      <td>82.0</td>\n",
       "      <td>83.0</td>\n",
       "      <td>89.0</td>\n",
       "    </tr>\n",
       "    <tr>\n",
       "      <th>90-99</th>\n",
       "      <td>5.0</td>\n",
       "      <td>92.800000</td>\n",
       "      <td>2.588436</td>\n",
       "      <td>90.0</td>\n",
       "      <td>90.0</td>\n",
       "      <td>94.0</td>\n",
       "      <td>95.0</td>\n",
       "      <td>95.0</td>\n",
       "    </tr>\n",
       "  </tbody>\n",
       "</table>\n",
       "</div>"
      ],
      "text/plain": [
       "             count       mean       std   min   25%   50%   75%   max\n",
       "age_range                                                            \n",
       "0-9            0.0        NaN       NaN   NaN   NaN   NaN   NaN   NaN\n",
       "10-19         27.0  18.851852  0.362014  18.0  19.0  19.0  19.0  19.0\n",
       "20-29       4718.0  26.733362  2.033667  20.0  26.0  27.0  28.0  29.0\n",
       "30-39      16566.0  34.245986  2.781125  30.0  32.0  34.0  37.0  39.0\n",
       "40-49      10528.0  44.230243  2.871424  40.0  42.0  44.0  47.0  49.0\n",
       "50-59       7514.0  54.272691  2.889238  50.0  52.0  54.0  57.0  59.0\n",
       "60-69       1037.0  62.029894  2.704578  60.0  60.0  61.0  64.0  69.0\n",
       "70-79        346.0  73.641618  2.809694  70.0  71.0  73.0  76.0  79.0\n",
       "80-89        100.0  82.460000  2.371634  80.0  80.0  82.0  83.0  89.0\n",
       "90-99          5.0  92.800000  2.588436  90.0  90.0  94.0  95.0  95.0"
      ]
     },
     "execution_count": 118,
     "metadata": {},
     "output_type": "execute_result"
    }
   ],
   "source": [
    "df.groupby('age_range')['age'].describe() "
   ]
  },
  {
   "cell_type": "code",
   "execution_count": 119,
   "metadata": {},
   "outputs": [
    {
     "data": {
      "image/png": "[encoded data removed]",
      "text/plain": [
       "<Figure size 640x480 with 1 Axes>"
      ]
     },
     "metadata": {},
     "output_type": "display_data"
    }
   ],
   "source": [
    "g = sns.histplot(data=df['age_range'])"
   ]
  },
  {
   "cell_type": "code",
   "execution_count": 114,
   "metadata": {},
   "outputs": [
    {
     "name": "stderr",
     "output_type": "stream",
     "text": [
      "C:\\Users\\alfredo.sanchez.PKDGALATEAPROJE\\AppData\\Local\\Temp\\ipykernel_9120\\1152925319.py:1: FutureWarning: The default of observed=False is deprecated and will be changed to True in a future version of pandas. Pass observed=False to retain current behavior or observed=True to adopt the future default and silence this warning.\n",
      "  filtered_df.groupby('age_range')['age'].describe()\n"
     ]
    },
    {
     "data": {
      "text/html": [
       "<div>\n",
       "<style scoped>\n",
       "    .dataframe tbody tr th:only-of-type {\n",
       "        vertical-align: middle;\n",
       "    }\n",
       "\n",
       "    .dataframe tbody tr th {\n",
       "        vertical-align: top;\n",
       "    }\n",
       "\n",
       "    .dataframe thead th {\n",
       "        text-align: right;\n",
       "    }\n",
       "</style>\n",
       "<table border=\"1\" class=\"dataframe\">\n",
       "  <thead>\n",
       "    <tr style=\"text-align: right;\">\n",
       "      <th></th>\n",
       "      <th>count</th>\n",
       "      <th>mean</th>\n",
       "      <th>std</th>\n",
       "      <th>min</th>\n",
       "      <th>25%</th>\n",
       "      <th>50%</th>\n",
       "      <th>75%</th>\n",
       "      <th>max</th>\n",
       "    </tr>\n",
       "    <tr>\n",
       "      <th>age_range</th>\n",
       "      <th></th>\n",
       "      <th></th>\n",
       "      <th></th>\n",
       "      <th></th>\n",
       "      <th></th>\n",
       "      <th></th>\n",
       "      <th></th>\n",
       "      <th></th>\n",
       "    </tr>\n",
       "  </thead>\n",
       "  <tbody>\n",
       "    <tr>\n",
       "      <th>0-9</th>\n",
       "      <td>0.0</td>\n",
       "      <td>NaN</td>\n",
       "      <td>NaN</td>\n",
       "      <td>NaN</td>\n",
       "      <td>NaN</td>\n",
       "      <td>NaN</td>\n",
       "      <td>NaN</td>\n",
       "      <td>NaN</td>\n",
       "    </tr>\n",
       "    <tr>\n",
       "      <th>10-19</th>\n",
       "      <td>10.0</td>\n",
       "      <td>18.800000</td>\n",
       "      <td>0.421637</td>\n",
       "      <td>18.0</td>\n",
       "      <td>19.00</td>\n",
       "      <td>19.0</td>\n",
       "      <td>19.00</td>\n",
       "      <td>19.0</td>\n",
       "    </tr>\n",
       "    <tr>\n",
       "      <th>20-29</th>\n",
       "      <td>796.0</td>\n",
       "      <td>26.310302</td>\n",
       "      <td>2.235324</td>\n",
       "      <td>20.0</td>\n",
       "      <td>25.00</td>\n",
       "      <td>27.0</td>\n",
       "      <td>28.00</td>\n",
       "      <td>29.0</td>\n",
       "    </tr>\n",
       "    <tr>\n",
       "      <th>30-39</th>\n",
       "      <td>1717.0</td>\n",
       "      <td>34.091439</td>\n",
       "      <td>2.777348</td>\n",
       "      <td>30.0</td>\n",
       "      <td>32.00</td>\n",
       "      <td>34.0</td>\n",
       "      <td>36.00</td>\n",
       "      <td>39.0</td>\n",
       "    </tr>\n",
       "    <tr>\n",
       "      <th>40-49</th>\n",
       "      <td>929.0</td>\n",
       "      <td>44.351991</td>\n",
       "      <td>2.926156</td>\n",
       "      <td>40.0</td>\n",
       "      <td>42.00</td>\n",
       "      <td>44.0</td>\n",
       "      <td>47.00</td>\n",
       "      <td>49.0</td>\n",
       "    </tr>\n",
       "    <tr>\n",
       "      <th>50-59</th>\n",
       "      <td>690.0</td>\n",
       "      <td>54.536232</td>\n",
       "      <td>2.896270</td>\n",
       "      <td>50.0</td>\n",
       "      <td>52.00</td>\n",
       "      <td>54.0</td>\n",
       "      <td>57.00</td>\n",
       "      <td>59.0</td>\n",
       "    </tr>\n",
       "    <tr>\n",
       "      <th>60-69</th>\n",
       "      <td>299.0</td>\n",
       "      <td>63.026756</td>\n",
       "      <td>2.843682</td>\n",
       "      <td>60.0</td>\n",
       "      <td>60.00</td>\n",
       "      <td>62.0</td>\n",
       "      <td>65.00</td>\n",
       "      <td>69.0</td>\n",
       "    </tr>\n",
       "    <tr>\n",
       "      <th>70-79</th>\n",
       "      <td>155.0</td>\n",
       "      <td>73.877419</td>\n",
       "      <td>2.726340</td>\n",
       "      <td>70.0</td>\n",
       "      <td>72.00</td>\n",
       "      <td>73.0</td>\n",
       "      <td>76.00</td>\n",
       "      <td>79.0</td>\n",
       "    </tr>\n",
       "    <tr>\n",
       "      <th>80-89</th>\n",
       "      <td>40.0</td>\n",
       "      <td>82.700000</td>\n",
       "      <td>2.311621</td>\n",
       "      <td>80.0</td>\n",
       "      <td>80.75</td>\n",
       "      <td>82.0</td>\n",
       "      <td>84.25</td>\n",
       "      <td>87.0</td>\n",
       "    </tr>\n",
       "    <tr>\n",
       "      <th>90-99</th>\n",
       "      <td>3.0</td>\n",
       "      <td>91.666667</td>\n",
       "      <td>2.886751</td>\n",
       "      <td>90.0</td>\n",
       "      <td>90.00</td>\n",
       "      <td>90.0</td>\n",
       "      <td>92.50</td>\n",
       "      <td>95.0</td>\n",
       "    </tr>\n",
       "  </tbody>\n",
       "</table>\n",
       "</div>"
      ],
      "text/plain": [
       "            count       mean       std   min    25%   50%    75%   max\n",
       "age_range                                                             \n",
       "0-9           0.0        NaN       NaN   NaN    NaN   NaN    NaN   NaN\n",
       "10-19        10.0  18.800000  0.421637  18.0  19.00  19.0  19.00  19.0\n",
       "20-29       796.0  26.310302  2.235324  20.0  25.00  27.0  28.00  29.0\n",
       "30-39      1717.0  34.091439  2.777348  30.0  32.00  34.0  36.00  39.0\n",
       "40-49       929.0  44.351991  2.926156  40.0  42.00  44.0  47.00  49.0\n",
       "50-59       690.0  54.536232  2.896270  50.0  52.00  54.0  57.00  59.0\n",
       "60-69       299.0  63.026756  2.843682  60.0  60.00  62.0  65.00  69.0\n",
       "70-79       155.0  73.877419  2.726340  70.0  72.00  73.0  76.00  79.0\n",
       "80-89        40.0  82.700000  2.311621  80.0  80.75  82.0  84.25  87.0\n",
       "90-99         3.0  91.666667  2.886751  90.0  90.00  90.0  92.50  95.0"
      ]
     },
     "execution_count": 114,
     "metadata": {},
     "output_type": "execute_result"
    }
   ],
   "source": [
    "filtered_df.groupby('age_range')['age'].describe() "
   ]
  },
  {
   "cell_type": "code",
   "execution_count": 115,
   "metadata": {},
   "outputs": [
    {
     "data": {
      "image/png": "[encoded data removed]",
      "text/plain": [
       "<Figure size 640x480 with 1 Axes>"
      ]
     },
     "metadata": {},
     "output_type": "display_data"
    }
   ],
   "source": [
    "g = sns.histplot(data=filtered_df['age_range'])"
   ]
  },
  {
   "cell_type": "code",
   "execution_count": 122,
   "metadata": {},
   "outputs": [
    {
     "data": {
      "image/png": "[encoded data removed]",
      "text/plain": [
       "<Figure size 2500x1000 with 1 Axes>"
      ]
     },
     "metadata": {},
     "output_type": "display_data"
    }
   ],
   "source": [
    "import matplotlib.pyplot as plt\n",
    "plt.figure(figsize=(25,10))\n",
    "\n",
    "sns.histplot(df['job'])\n",
    "\n",
    "plt.show()"
   ]
  },
  {
   "cell_type": "code",
   "execution_count": 91,
   "metadata": {},
   "outputs": [
    {
     "name": "stdout",
     "output_type": "stream",
     "text": [
      "age  marital \n",
      "18   single      1.000000\n",
      "19   single      1.000000\n",
      "20   single      1.000000\n",
      "21   single      0.947368\n",
      "     married     0.052632\n",
      "                   ...   \n",
      "86   single      0.250000\n",
      "87   married     0.666667\n",
      "     divorced    0.333333\n",
      "90   divorced    1.000000\n",
      "95   divorced    1.000000\n",
      "Name: proportion, Length: 178, dtype: float64\n"
     ]
    }
   ],
   "source": [
    "print(filtered_df.groupby('age')['marital'].value_counts(normalize=True))"
   ]
  },
  {
   "cell_type": "code",
   "execution_count": 83,
   "metadata": {},
   "outputs": [
    {
     "name": "stdout",
     "output_type": "stream",
     "text": [
      "poutcome\n",
      "unknown    0.682044\n",
      "success    0.193145\n",
      "failure    0.124811\n",
      "Name: proportion, dtype: float64\n"
     ]
    }
   ],
   "source": [
    "print(filtered_df['poutcome'].value_counts(normalize=True))"
   ]
  },
  {
   "cell_type": "code",
   "execution_count": 84,
   "metadata": {},
   "outputs": [
    {
     "name": "stdout",
     "output_type": "stream",
     "text": [
      "marital\n",
      "married     0.520155\n",
      "single      0.360854\n",
      "divorced    0.118991\n",
      "Name: proportion, dtype: float64\n"
     ]
    }
   ],
   "source": [
    "print(filtered_df['marital'].value_counts(normalize=True))"
   ]
  },
  {
   "cell_type": "code",
   "execution_count": 73,
   "metadata": {},
   "outputs": [
    {
     "name": "stdout",
     "output_type": "stream",
     "text": [
      "job\n",
      "management       0.242509\n",
      "technician       0.162535\n",
      "blue-collar      0.137314\n",
      "admin            0.121362\n",
      "retired          0.096573\n",
      "services         0.071567\n",
      "student          0.043759\n",
      "unemployed       0.040957\n",
      "self-employed    0.034921\n",
      "entrepreneur     0.023496\n",
      "housemaid        0.021772\n",
      "other            0.003233\n",
      "Name: proportion, dtype: float64\n"
     ]
    }
   ],
   "source": [
    "print(filtered_df['job'].value_counts(normalize=True))"
   ]
  },
  {
   "cell_type": "code",
   "execution_count": 75,
   "metadata": {},
   "outputs": [
    {
     "name": "stdout",
     "output_type": "stream",
     "text": [
      "education\n",
      "secondary    0.491270\n",
      "tertiary     0.390817\n",
      "primary      0.117913\n",
      "Name: proportion, dtype: float64\n"
     ]
    }
   ],
   "source": [
    "print(filtered_df['education'].value_counts(normalize=True))"
   ]
  },
  {
   "cell_type": "code",
   "execution_count": 76,
   "metadata": {},
   "outputs": [
    {
     "name": "stdout",
     "output_type": "stream",
     "text": [
      "month\n",
      "may    0.178056\n",
      "aug    0.132356\n",
      "jul    0.118991\n",
      "apr    0.106920\n",
      "jun    0.105626\n",
      "feb    0.084070\n",
      "nov    0.076310\n",
      "oct    0.058633\n",
      "sep    0.048071\n",
      "mar    0.047640\n",
      "jan    0.026299\n",
      "dec    0.017030\n",
      "Name: proportion, dtype: float64\n"
     ]
    }
   ],
   "source": [
    "print(filtered_df['month'].value_counts(normalize=True))"
   ]
  },
  {
   "cell_type": "code",
   "execution_count": 79,
   "metadata": {},
   "outputs": [
    {
     "name": "stdout",
     "output_type": "stream",
     "text": [
      "campaign\n",
      "1     0.486096\n",
      "2     0.262988\n",
      "3     0.115327\n",
      "4     0.059927\n",
      "5     0.027161\n",
      "6     0.018107\n",
      "7     0.008623\n",
      "8     0.006467\n",
      "9     0.003233\n",
      "11    0.003018\n",
      "10    0.002802\n",
      "13    0.001293\n",
      "17    0.000862\n",
      "15    0.000862\n",
      "14    0.000862\n",
      "12    0.000862\n",
      "16    0.000431\n",
      "24    0.000216\n",
      "32    0.000216\n",
      "29    0.000216\n",
      "21    0.000216\n",
      "20    0.000216\n",
      "Name: proportion, dtype: float64\n"
     ]
    }
   ],
   "source": [
    "print(filtered_df['campaign'].value_counts(normalize=True))"
   ]
  },
  {
   "cell_type": "code",
   "execution_count": 86,
   "metadata": {},
   "outputs": [
    {
     "data": {
      "text/plain": [
       "<seaborn.axisgrid.FacetGrid at 0x17b8acafc20>"
      ]
     },
     "execution_count": 86,
     "metadata": {},
     "output_type": "execute_result"
    },
    {
     "data": {
      "image/png": "[encoded data removed]",
      "text/plain": [
       "<Figure size 600x300 with 2 Axes>"
      ]
     },
     "metadata": {},
     "output_type": "display_data"
    }
   ],
   "source": [
    "g = sns.FacetGrid(data=filtered_df, col='housing')\n",
    "g.map(sns.histplot, 'education',kde=False)"
   ]
  },
  {
   "cell_type": "code",
   "execution_count": 87,
   "metadata": {},
   "outputs": [
    {
     "data": {
      "text/plain": [
       "<seaborn.axisgrid.FacetGrid at 0x17b821d7fb0>"
      ]
     },
     "execution_count": 87,
     "metadata": {},
     "output_type": "execute_result"
    },
    {
     "data": {
      "image/png": "[encoded data removed]",
      "text/plain": [
       "<Figure size 600x300 with 2 Axes>"
      ]
     },
     "metadata": {},
     "output_type": "display_data"
    }
   ],
   "source": [
    "g = sns.FacetGrid(data=filtered_df, col='housing')\n",
    "g.map(sns.histplot, 'loan',kde=False)"
   ]
  },
  {
   "cell_type": "code",
   "execution_count": 88,
   "metadata": {},
   "outputs": [
    {
     "data": {
      "text/plain": [
       "<seaborn.axisgrid.FacetGrid at 0x17b8b7fc470>"
      ]
     },
     "execution_count": 88,
     "metadata": {},
     "output_type": "execute_result"
    },
    {
     "data": {
      "image/png": "[encoded data removed]",
      "text/plain": [
       "<Figure size 900x300 with 3 Axes>"
      ]
     },
     "metadata": {},
     "output_type": "display_data"
    }
   ],
   "source": [
    "g = sns.FacetGrid(data=filtered_df, col='marital')\n",
    "g.map(sns.histplot, 'housing',kde=False)"
   ]
  },
  {
   "cell_type": "code",
   "execution_count": 94,
   "metadata": {},
   "outputs": [
    {
     "data": {
      "text/plain": [
       "<seaborn.axisgrid.FacetGrid at 0x17b8fa03e00>"
      ]
     },
     "execution_count": 94,
     "metadata": {},
     "output_type": "execute_result"
    },
    {
     "data": {
      "image/png": "[encoded data removed]",
      "text/plain": [
       "<Figure size 900x300 with 3 Axes>"
      ]
     },
     "metadata": {},
     "output_type": "display_data"
    }
   ],
   "source": [
    "g = sns.FacetGrid(data=filtered_df, col='marital')\n",
    "g.map(sns.histplot, 'loan',kde=False)"
   ]
  },
  {
   "cell_type": "code",
   "execution_count": 95,
   "metadata": {},
   "outputs": [
    {
     "data": {
      "image/png": "[encoded data removed]",
      "text/plain": [
       "<Figure size 640x480 with 1 Axes>"
      ]
     },
     "metadata": {},
     "output_type": "display_data"
    }
   ],
   "source": [
    "g = sns.histplot(data=filtered_df['age'])"
   ]
  },
  {
   "cell_type": "code",
   "execution_count": null,
   "metadata": {},
   "outputs": [
    {
     "name": "stdout",
     "output_type": "stream",
     "text": [
      "Axes(0.125,0.11;0.775x0.77)\n"
     ]
    }
   ],
   "source": [
    "g = sns.histplot(data=filtered_df['age'])"
   ]
  },
  {
   "cell_type": "code",
   "execution_count": 97,
   "metadata": {},
   "outputs": [
    {
     "data": {
      "text/plain": [
       "<seaborn.axisgrid.FacetGrid at 0x17b9538bf20>"
      ]
     },
     "execution_count": 97,
     "metadata": {},
     "output_type": "execute_result"
    },
    {
     "data": {
      "image/png": "[encoded data removed]",
      "text/plain": [
       "<Figure size 900x300 with 3 Axes>"
      ]
     },
     "metadata": {},
     "output_type": "display_data"
    }
   ],
   "source": [
    "g = sns.FacetGrid(data=filtered_df, col='marital')\n",
    "g.map(sns.histplot, 'age',kde=False)"
   ]
  },
  {
   "cell_type": "code",
   "execution_count": 101,
   "metadata": {},
   "outputs": [
    {
     "data": {
      "text/plain": [
       "<seaborn.axisgrid.JointGrid at 0x17b94a4c710>"
      ]
     },
     "execution_count": 101,
     "metadata": {},
     "output_type": "execute_result"
    },
    {
     "data": {
      "image/png": "[encoded data removed]",
      "text/plain": [
       "<Figure size 600x600 with 3 Axes>"
      ]
     },
     "metadata": {},
     "output_type": "display_data"
    }
   ],
   "source": [
    "# Return font size to its original scale\n",
    "sns.set(font_scale=1)\n",
    "\n",
    "# Joint Distribution Plot\n",
    "sns.jointplot(x='age', y='balance', data=filtered_df)"
   ]
  },
  {
   "cell_type": "code",
   "execution_count": null,
   "metadata": {},
   "outputs": [],
   "source": [
    "import matplotlib.pyplot as plt\n",
    "fig, ax = plt.subplots()\n",
    "x = np.random.random((16, 16))\n",
    "ax.imshow(x)\n",
    "plt.show()"
   ]
  },
  {
   "cell_type": "code",
   "execution_count": null,
   "metadata": {},
   "outputs": [],
   "source": []
  },
  {
   "cell_type": "code",
   "execution_count": 128,
   "metadata": {},
   "outputs": [
    {
     "name": "stdout",
     "output_type": "stream",
     "text": [
      "campaign\n",
      "1     0.486096\n",
      "2     0.262988\n",
      "3     0.115327\n",
      "4     0.059927\n",
      "5     0.027161\n",
      "6     0.018107\n",
      "7     0.008623\n",
      "8     0.006467\n",
      "9     0.003233\n",
      "11    0.003018\n",
      "10    0.002802\n",
      "13    0.001293\n",
      "17    0.000862\n",
      "15    0.000862\n",
      "14    0.000862\n",
      "12    0.000862\n",
      "16    0.000431\n",
      "24    0.000216\n",
      "32    0.000216\n",
      "29    0.000216\n",
      "21    0.000216\n",
      "20    0.000216\n",
      "Name: proportion, dtype: float64\n"
     ]
    }
   ],
   "source": [
    "print(filtered_df['campaign'].value_counts(normalize=True))"
   ]
  },
  {
   "cell_type": "code",
   "execution_count": 129,
   "metadata": {},
   "outputs": [
    {
     "data": {
      "image/png": "[encoded data removed]",
      "text/plain": [
       "<Figure size 640x480 with 1 Axes>"
      ]
     },
     "metadata": {},
     "output_type": "display_data"
    }
   ],
   "source": [
    "import matplotlib.pyplot as plt\n",
    "fig, ax = plt.subplots()\n",
    "ax.pie(filtered_df['marital'].value_counts(normalize=True))\n",
    "plt.show()"
   ]
  },
  {
   "cell_type": "code",
   "execution_count": 130,
   "metadata": {},
   "outputs": [
    {
     "data": {
      "image/png": "[encoded data removed]",
      "text/plain": [
       "<Figure size 640x480 with 1 Axes>"
      ]
     },
     "metadata": {},
     "output_type": "display_data"
    }
   ],
   "source": [
    " import matplotlib.pyplot as plt  \n",
    "   \n",
    " # Calculate the proportions and labels  \n",
    " marital_counts = filtered_df['marital'].value_counts(normalize=True)  \n",
    " labels = marital_counts.index  # Extract the unique categories as labels  \n",
    "   \n",
    " # Create the pie chart  \n",
    " fig, ax = plt.subplots()  \n",
    " ax.pie(marital_counts, labels=labels, autopct='%1.1f%%', startangle=90)  # Add labels and percentages  \n",
    " plt.title('Distribution of Marital Status')  \n",
    " plt.show()  "
   ]
  },
  {
   "cell_type": "code",
   "execution_count": null,
   "metadata": {},
   "outputs": [],
   "source": [
    " import matplotlib.pyplot as plt  \n",
    "   \n",
    " # Calculate the proportions and labels  \n",
    " marital_counts = filtered_df['marital'].value_counts(normalize=True)  \n",
    " labels = marital_counts.index  # Extract the unique categories as labels  \n",
    "   \n",
    " # Create the pie chart  \n",
    " fig, ax = plt.subplots()  \n",
    " ax.pie(marital_counts, labels=labels, autopct='%1.1f%%', startangle=90)  # Add labels and percentages  \n",
    " plt.title('Distribution of Marital Status')  \n",
    " plt.show()  "
   ]
  },
  {
   "cell_type": "code",
   "execution_count": 82,
   "metadata": {},
   "outputs": [
    {
     "name": "stdout",
     "output_type": "stream",
     "text": [
      "<class 'pandas.core.frame.DataFrame'>\n",
      "Index: 4639 entries, 72 to 40839\n",
      "Data columns (total 18 columns):\n",
      " #   Column           Non-Null Count  Dtype  \n",
      "---  ------           --------------  -----  \n",
      " 0   age              4639 non-null   int64  \n",
      " 1   job              4639 non-null   object \n",
      " 2   marital          4639 non-null   object \n",
      " 3   education        4639 non-null   object \n",
      " 4   default          4639 non-null   object \n",
      " 5   balance          4639 non-null   int64  \n",
      " 6   housing          4639 non-null   object \n",
      " 7   loan             4639 non-null   object \n",
      " 8   day              4639 non-null   int64  \n",
      " 9   month            4639 non-null   object \n",
      " 10  duration         4639 non-null   float64\n",
      " 11  campaign         4639 non-null   int64  \n",
      " 12  pdays            4639 non-null   int64  \n",
      " 13  previous         4639 non-null   int64  \n",
      " 14  poutcome         4639 non-null   object \n",
      " 15  response         4639 non-null   object \n",
      " 16  response_binary  4639 non-null   int64  \n",
      " 17  month_int        4639 non-null   float64\n",
      "dtypes: float64(2), int64(7), object(9)\n",
      "memory usage: 688.6+ KB\n"
     ]
    }
   ],
   "source": [
    "filtered_df.info()"
   ]
  },
  {
   "cell_type": "code",
   "execution_count": null,
   "metadata": {},
   "outputs": [],
   "source": [
    "sns.histplot(df_filtrado['age'])"
   ]
  },
  {
   "cell_type": "code",
   "execution_count": null,
   "metadata": {},
   "outputs": [],
   "source": [
    "import matplotlib.pyplot as plt\n",
    "plt.figure(figsize=(25,10))\n",
    "\n",
    "sns.histplot(df_filtrado['job'])\n",
    "\n",
    "plt.show()"
   ]
  },
  {
   "cell_type": "code",
   "execution_count": null,
   "metadata": {},
   "outputs": [],
   "source": [
    "import matplotlib.pyplot as plt\n",
    "\n",
    "plt.figure(figsize=(12, 8))\n",
    "sns.boxplot(x=df['job'], y=df['age'])\n",
    "plt.xticks(rotation=45)\n",
    "plt.title('Boxplot de Edad por Tipo de Trabajo')\n",
    "plt.xlabel('Trabajo')\n",
    "plt.ylabel('Edad')\n",
    "plt.show()"
   ]
  },
  {
   "cell_type": "code",
   "execution_count": null,
   "metadata": {},
   "outputs": [],
   "source": [
    "# Mostrar distribución de llamadas que llevaron a venta\n",
    "plt.figure(figsize=(8, 6))\n",
    "sns.histplot(df_filtrado['campaign'], bins=range(0, int(df_filtrado['campaign'].max()) + 2), kde=False)\n",
    "plt.title('Distribución de llamadas realizadas para obtener venta')\n",
    "plt.xlabel('Número de llamadas (campaign)')\n",
    "plt.ylabel('campaign')\n",
    "plt.show()"
   ]
  },
  {
   "cell_type": "code",
   "execution_count": null,
   "metadata": {},
   "outputs": [],
   "source": [
    "# Calcular el número promedio de llamadas (columna 'previous')\n",
    "avg_calls = df_filtrado['campaign'].mean()\n",
    "print('Número promedio de llamadas para obtener una venta:', avg_calls)"
   ]
  },
  {
   "cell_type": "code",
   "execution_count": null,
   "metadata": {},
   "outputs": [],
   "source": [
    "# Calcular las medias de duración y de cantidad de llamadas (campaign) para ventas\n",
    "mean_duration_yes = df_filtrado['duration'].mean()\n",
    "mean_campaign_yes = df_filtrado['campaign'].mean()\n",
    "\n",
    "# Crear gráfico de dispersión con ejes intercambiados\n",
    "plt.figure(figsize=(12, 8))\n",
    "\n",
    "# Gráfico de dispersión completo\n",
    "sns.scatterplot(x='duration', y='campaign', data=df, alpha=0.5, hue='response', palette={'yes': 'green', 'no': 'red'})\n",
    "\n",
    "# Añadir línea vertical y horizontal correspondientes a las medias de \"yes\"\n",
    "plt.axvline(x=mean_duration_yes, color='green', linestyle='--', label='Media Duración (yes)')\n",
    "plt.axhline(y=mean_campaign_yes, color='green', linestyle=':', label='Media Llamadas (yes)')\n",
    "\n",
    "plt.title('Relación entre Duración de Llamada y Cantidad de Llamadas, con Medias para Ventas (yes)')\n",
    "plt.xlabel('Duración de Llamada (segundos)')\n",
    "plt.ylabel('Cantidad de Llamadas (campaign)')\n",
    "plt.grid(True, linestyle='--', alpha=0.7)\n",
    "plt.legend()\n",
    "plt.show()\n",
    "\n",
    "print('Se ha generado el gráfico de dispersión con las medias para ventas (yes).')"
   ]
  }
 ],
 "metadata": {
  "kernelspec": {
   "display_name": "base",
   "language": "python",
   "name": "python3"
  },
  "language_info": {
   "codemirror_mode": {
    "name": "ipython",
    "version": 3
   },
   "file_extension": ".py",
   "mimetype": "text/x-python",
   "name": "python",
   "nbconvert_exporter": "python",
   "pygments_lexer": "ipython3",
   "version": "3.12.7"
  }
 },
 "nbformat": 4,
 "nbformat_minor": 2
}
